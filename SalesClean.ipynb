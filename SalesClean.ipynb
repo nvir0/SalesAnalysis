{
 "cells": [
  {
   "cell_type": "code",
   "execution_count": 1,
   "id": "0346bba1",
   "metadata": {},
   "outputs": [],
   "source": [
    "import pandas as pd\n",
    "import os\n",
    "import datetime\n",
    "import matplotlib.pyplot as plt"
   ]
  },
  {
   "cell_type": "markdown",
   "id": "71e91399",
   "metadata": {},
   "source": [
    "Open csv files and concatenate them into single csv file"
   ]
  },
  {
   "cell_type": "code",
   "execution_count": 2,
   "id": "1b3a2650",
   "metadata": {
    "scrolled": true
   },
   "outputs": [
    {
     "data": {
      "text/html": [
       "<div>\n",
       "<style scoped>\n",
       "    .dataframe tbody tr th:only-of-type {\n",
       "        vertical-align: middle;\n",
       "    }\n",
       "\n",
       "    .dataframe tbody tr th {\n",
       "        vertical-align: top;\n",
       "    }\n",
       "\n",
       "    .dataframe thead th {\n",
       "        text-align: right;\n",
       "    }\n",
       "</style>\n",
       "<table border=\"1\" class=\"dataframe\">\n",
       "  <thead>\n",
       "    <tr style=\"text-align: right;\">\n",
       "      <th></th>\n",
       "      <th>Order ID</th>\n",
       "      <th>Product</th>\n",
       "      <th>Quantity Ordered</th>\n",
       "      <th>Price Each</th>\n",
       "      <th>Order Date</th>\n",
       "      <th>Purchase Address</th>\n",
       "    </tr>\n",
       "  </thead>\n",
       "  <tbody>\n",
       "    <tr>\n",
       "      <th>0</th>\n",
       "      <td>295665</td>\n",
       "      <td>Macbook Pro Laptop</td>\n",
       "      <td>1</td>\n",
       "      <td>1700</td>\n",
       "      <td>12/30/19 00:01</td>\n",
       "      <td>136 Church St, New York City, NY 10001</td>\n",
       "    </tr>\n",
       "    <tr>\n",
       "      <th>1</th>\n",
       "      <td>295666</td>\n",
       "      <td>LG Washing Machine</td>\n",
       "      <td>1</td>\n",
       "      <td>600.0</td>\n",
       "      <td>12/29/19 07:03</td>\n",
       "      <td>562 2nd St, New York City, NY 10001</td>\n",
       "    </tr>\n",
       "    <tr>\n",
       "      <th>2</th>\n",
       "      <td>295667</td>\n",
       "      <td>USB-C Charging Cable</td>\n",
       "      <td>1</td>\n",
       "      <td>11.95</td>\n",
       "      <td>12/12/19 18:21</td>\n",
       "      <td>277 Main St, New York City, NY 10001</td>\n",
       "    </tr>\n",
       "    <tr>\n",
       "      <th>3</th>\n",
       "      <td>295668</td>\n",
       "      <td>27in FHD Monitor</td>\n",
       "      <td>1</td>\n",
       "      <td>149.99</td>\n",
       "      <td>12/22/19 15:13</td>\n",
       "      <td>410 6th St, San Francisco, CA 94016</td>\n",
       "    </tr>\n",
       "    <tr>\n",
       "      <th>4</th>\n",
       "      <td>295669</td>\n",
       "      <td>USB-C Charging Cable</td>\n",
       "      <td>1</td>\n",
       "      <td>11.95</td>\n",
       "      <td>12/18/19 12:38</td>\n",
       "      <td>43 Hill St, Atlanta, GA 30301</td>\n",
       "    </tr>\n",
       "    <tr>\n",
       "      <th>...</th>\n",
       "      <td>...</td>\n",
       "      <td>...</td>\n",
       "      <td>...</td>\n",
       "      <td>...</td>\n",
       "      <td>...</td>\n",
       "      <td>...</td>\n",
       "    </tr>\n",
       "    <tr>\n",
       "      <th>15221</th>\n",
       "      <td>176554</td>\n",
       "      <td>Lightning Charging Cable</td>\n",
       "      <td>1</td>\n",
       "      <td>14.95</td>\n",
       "      <td>03/24/19 11:14</td>\n",
       "      <td>672 12th St, San Francisco, CA 94016</td>\n",
       "    </tr>\n",
       "    <tr>\n",
       "      <th>15222</th>\n",
       "      <td>176555</td>\n",
       "      <td>27in FHD Monitor</td>\n",
       "      <td>1</td>\n",
       "      <td>149.99</td>\n",
       "      <td>03/22/19 20:27</td>\n",
       "      <td>42 4th St, San Francisco, CA 94016</td>\n",
       "    </tr>\n",
       "    <tr>\n",
       "      <th>15223</th>\n",
       "      <td>176556</td>\n",
       "      <td>AAA Batteries (4-pack)</td>\n",
       "      <td>3</td>\n",
       "      <td>2.99</td>\n",
       "      <td>03/14/19 10:29</td>\n",
       "      <td>871 7th St, Los Angeles, CA 90001</td>\n",
       "    </tr>\n",
       "    <tr>\n",
       "      <th>15224</th>\n",
       "      <td>176557</td>\n",
       "      <td>iPhone</td>\n",
       "      <td>1</td>\n",
       "      <td>700</td>\n",
       "      <td>03/30/19 12:32</td>\n",
       "      <td>83 Washington St, San Francisco, CA 94016</td>\n",
       "    </tr>\n",
       "    <tr>\n",
       "      <th>15225</th>\n",
       "      <td>176557</td>\n",
       "      <td>Lightning Charging Cable</td>\n",
       "      <td>1</td>\n",
       "      <td>14.95</td>\n",
       "      <td>03/30/19 12:32</td>\n",
       "      <td>83 Washington St, San Francisco, CA 94016</td>\n",
       "    </tr>\n",
       "  </tbody>\n",
       "</table>\n",
       "<p>186850 rows × 6 columns</p>\n",
       "</div>"
      ],
      "text/plain": [
       "      Order ID                   Product Quantity Ordered Price Each  \\\n",
       "0       295665        Macbook Pro Laptop                1       1700   \n",
       "1       295666        LG Washing Machine                1      600.0   \n",
       "2       295667      USB-C Charging Cable                1      11.95   \n",
       "3       295668          27in FHD Monitor                1     149.99   \n",
       "4       295669      USB-C Charging Cable                1      11.95   \n",
       "...        ...                       ...              ...        ...   \n",
       "15221   176554  Lightning Charging Cable                1      14.95   \n",
       "15222   176555          27in FHD Monitor                1     149.99   \n",
       "15223   176556    AAA Batteries (4-pack)                3       2.99   \n",
       "15224   176557                    iPhone                1        700   \n",
       "15225   176557  Lightning Charging Cable                1      14.95   \n",
       "\n",
       "           Order Date                           Purchase Address  \n",
       "0      12/30/19 00:01     136 Church St, New York City, NY 10001  \n",
       "1      12/29/19 07:03        562 2nd St, New York City, NY 10001  \n",
       "2      12/12/19 18:21       277 Main St, New York City, NY 10001  \n",
       "3      12/22/19 15:13        410 6th St, San Francisco, CA 94016  \n",
       "4      12/18/19 12:38              43 Hill St, Atlanta, GA 30301  \n",
       "...               ...                                        ...  \n",
       "15221  03/24/19 11:14       672 12th St, San Francisco, CA 94016  \n",
       "15222  03/22/19 20:27         42 4th St, San Francisco, CA 94016  \n",
       "15223  03/14/19 10:29          871 7th St, Los Angeles, CA 90001  \n",
       "15224  03/30/19 12:32  83 Washington St, San Francisco, CA 94016  \n",
       "15225  03/30/19 12:32  83 Washington St, San Francisco, CA 94016  \n",
       "\n",
       "[186850 rows x 6 columns]"
      ]
     },
     "execution_count": 2,
     "metadata": {},
     "output_type": "execute_result"
    }
   ],
   "source": [
    "path = \"./Sales_Data/\"\n",
    "files = [file for file in os.listdir(path)]\n",
    "\n",
    "all_months = pd.DataFrame()\n",
    "\n",
    "for file in files:\n",
    "    df = pd.read_csv(path+file)\n",
    "    all_months = pd.concat([all_months, df])\n",
    "    \n",
    "all_months"
   ]
  },
  {
   "cell_type": "markdown",
   "id": "e40e6735",
   "metadata": {},
   "source": [
    "Find and delete missing values"
   ]
  },
  {
   "cell_type": "code",
   "execution_count": 3,
   "id": "195e099b",
   "metadata": {
    "scrolled": true
   },
   "outputs": [
    {
     "name": "stdout",
     "output_type": "stream",
     "text": [
      "Old data frame length: 186850 \n",
      "New data frame length: 186305 \n",
      "Number of rows with at least 1 NA value:  545\n"
     ]
    }
   ],
   "source": [
    "all_months_na = all_months.dropna(how = 'any')\n",
    "\n",
    "print(\"Old data frame length:\", len(all_months), \"\\nNew data frame length:\", \n",
    "       len(all_months_na), \"\\nNumber of rows with at least 1 NA value: \",\n",
    "       (len(all_months)-len(all_months_na)))"
   ]
  },
  {
   "cell_type": "markdown",
   "id": "7b802d1f",
   "metadata": {},
   "source": [
    "Delete duplicated headers"
   ]
  },
  {
   "cell_type": "code",
   "execution_count": 4,
   "id": "944ffd5a",
   "metadata": {
    "scrolled": false
   },
   "outputs": [
    {
     "name": "stdout",
     "output_type": "stream",
     "text": [
      "185950\n"
     ]
    }
   ],
   "source": [
    "all_months_na = all_months_na[all_months_na.Product != \"Product\"]\n",
    "\n",
    "print(len(all_months_na))"
   ]
  },
  {
   "cell_type": "markdown",
   "id": "61281234",
   "metadata": {},
   "source": [
    "Save to csv and import saved file as dataframe"
   ]
  },
  {
   "cell_type": "code",
   "execution_count": 5,
   "id": "55c5d1d4",
   "metadata": {},
   "outputs": [
    {
     "data": {
      "text/html": [
       "<div>\n",
       "<style scoped>\n",
       "    .dataframe tbody tr th:only-of-type {\n",
       "        vertical-align: middle;\n",
       "    }\n",
       "\n",
       "    .dataframe tbody tr th {\n",
       "        vertical-align: top;\n",
       "    }\n",
       "\n",
       "    .dataframe thead th {\n",
       "        text-align: right;\n",
       "    }\n",
       "</style>\n",
       "<table border=\"1\" class=\"dataframe\">\n",
       "  <thead>\n",
       "    <tr style=\"text-align: right;\">\n",
       "      <th></th>\n",
       "      <th>Order ID</th>\n",
       "      <th>Product</th>\n",
       "      <th>Quantity Ordered</th>\n",
       "      <th>Price Each</th>\n",
       "      <th>Order Date</th>\n",
       "      <th>Purchase Address</th>\n",
       "    </tr>\n",
       "  </thead>\n",
       "  <tbody>\n",
       "    <tr>\n",
       "      <th>0</th>\n",
       "      <td>295665</td>\n",
       "      <td>Macbook Pro Laptop</td>\n",
       "      <td>1</td>\n",
       "      <td>1700.00</td>\n",
       "      <td>12/30/19 00:01</td>\n",
       "      <td>136 Church St, New York City, NY 10001</td>\n",
       "    </tr>\n",
       "    <tr>\n",
       "      <th>1</th>\n",
       "      <td>295666</td>\n",
       "      <td>LG Washing Machine</td>\n",
       "      <td>1</td>\n",
       "      <td>600.00</td>\n",
       "      <td>12/29/19 07:03</td>\n",
       "      <td>562 2nd St, New York City, NY 10001</td>\n",
       "    </tr>\n",
       "    <tr>\n",
       "      <th>2</th>\n",
       "      <td>295667</td>\n",
       "      <td>USB-C Charging Cable</td>\n",
       "      <td>1</td>\n",
       "      <td>11.95</td>\n",
       "      <td>12/12/19 18:21</td>\n",
       "      <td>277 Main St, New York City, NY 10001</td>\n",
       "    </tr>\n",
       "    <tr>\n",
       "      <th>3</th>\n",
       "      <td>295668</td>\n",
       "      <td>27in FHD Monitor</td>\n",
       "      <td>1</td>\n",
       "      <td>149.99</td>\n",
       "      <td>12/22/19 15:13</td>\n",
       "      <td>410 6th St, San Francisco, CA 94016</td>\n",
       "    </tr>\n",
       "    <tr>\n",
       "      <th>4</th>\n",
       "      <td>295669</td>\n",
       "      <td>USB-C Charging Cable</td>\n",
       "      <td>1</td>\n",
       "      <td>11.95</td>\n",
       "      <td>12/18/19 12:38</td>\n",
       "      <td>43 Hill St, Atlanta, GA 30301</td>\n",
       "    </tr>\n",
       "  </tbody>\n",
       "</table>\n",
       "</div>"
      ],
      "text/plain": [
       "   Order ID               Product  Quantity Ordered  Price Each  \\\n",
       "0    295665    Macbook Pro Laptop                 1     1700.00   \n",
       "1    295666    LG Washing Machine                 1      600.00   \n",
       "2    295667  USB-C Charging Cable                 1       11.95   \n",
       "3    295668      27in FHD Monitor                 1      149.99   \n",
       "4    295669  USB-C Charging Cable                 1       11.95   \n",
       "\n",
       "       Order Date                        Purchase Address  \n",
       "0  12/30/19 00:01  136 Church St, New York City, NY 10001  \n",
       "1  12/29/19 07:03     562 2nd St, New York City, NY 10001  \n",
       "2  12/12/19 18:21    277 Main St, New York City, NY 10001  \n",
       "3  12/22/19 15:13     410 6th St, San Francisco, CA 94016  \n",
       "4  12/18/19 12:38           43 Hill St, Atlanta, GA 30301  "
      ]
     },
     "execution_count": 5,
     "metadata": {},
     "output_type": "execute_result"
    }
   ],
   "source": [
    "all_months_na.to_csv(\"all_months.csv\", index=False)\n",
    "df = pd.read_csv(\"all_months.csv\")\n",
    "df.head()"
   ]
  },
  {
   "cell_type": "markdown",
   "id": "1f8fa0d4",
   "metadata": {},
   "source": [
    "Check datatypes and correct them"
   ]
  },
  {
   "cell_type": "code",
   "execution_count": 6,
   "id": "319103f4",
   "metadata": {
    "scrolled": true
   },
   "outputs": [
    {
     "data": {
      "text/plain": [
       "Order ID              int64\n",
       "Product              object\n",
       "Quantity Ordered      int64\n",
       "Price Each          float64\n",
       "Order Date           object\n",
       "Purchase Address     object\n",
       "dtype: object"
      ]
     },
     "execution_count": 6,
     "metadata": {},
     "output_type": "execute_result"
    }
   ],
   "source": [
    "df.dtypes"
   ]
  },
  {
   "cell_type": "code",
   "execution_count": 7,
   "id": "ecdb38e5",
   "metadata": {},
   "outputs": [],
   "source": [
    "df['Order ID'] = pd.to_numeric(df['Order ID'])\n",
    "df['Quantity Ordered'] = pd.to_numeric(df['Quantity Ordered'])\n",
    "df['Price Each'] = pd.to_numeric(df['Price Each'])"
   ]
  },
  {
   "cell_type": "markdown",
   "id": "7a1f1351",
   "metadata": {},
   "source": [
    "Convert Order Date to datetime object"
   ]
  },
  {
   "cell_type": "code",
   "execution_count": 8,
   "id": "1961a2ca",
   "metadata": {},
   "outputs": [],
   "source": [
    "df['Order Date'] = pd.to_datetime(df['Order Date'], format='%m/%d/%y %H:%M')"
   ]
  },
  {
   "cell_type": "code",
   "execution_count": 9,
   "id": "763801d4",
   "metadata": {},
   "outputs": [
    {
     "data": {
      "text/plain": [
       "Order ID                     int64\n",
       "Product                     object\n",
       "Quantity Ordered             int64\n",
       "Price Each                 float64\n",
       "Order Date          datetime64[ns]\n",
       "Purchase Address            object\n",
       "dtype: object"
      ]
     },
     "execution_count": 9,
     "metadata": {},
     "output_type": "execute_result"
    }
   ],
   "source": [
    "df.dtypes"
   ]
  },
  {
   "cell_type": "markdown",
   "id": "e2c5055f",
   "metadata": {},
   "source": [
    "Add column Total = Quantity Ordered * Price Each"
   ]
  },
  {
   "cell_type": "code",
   "execution_count": 10,
   "id": "c77774a8",
   "metadata": {},
   "outputs": [
    {
     "data": {
      "text/html": [
       "<div>\n",
       "<style scoped>\n",
       "    .dataframe tbody tr th:only-of-type {\n",
       "        vertical-align: middle;\n",
       "    }\n",
       "\n",
       "    .dataframe tbody tr th {\n",
       "        vertical-align: top;\n",
       "    }\n",
       "\n",
       "    .dataframe thead th {\n",
       "        text-align: right;\n",
       "    }\n",
       "</style>\n",
       "<table border=\"1\" class=\"dataframe\">\n",
       "  <thead>\n",
       "    <tr style=\"text-align: right;\">\n",
       "      <th></th>\n",
       "      <th>Order ID</th>\n",
       "      <th>Product</th>\n",
       "      <th>Quantity Ordered</th>\n",
       "      <th>Price Each</th>\n",
       "      <th>Order Date</th>\n",
       "      <th>Purchase Address</th>\n",
       "      <th>Total</th>\n",
       "    </tr>\n",
       "  </thead>\n",
       "  <tbody>\n",
       "    <tr>\n",
       "      <th>0</th>\n",
       "      <td>295665</td>\n",
       "      <td>Macbook Pro Laptop</td>\n",
       "      <td>1</td>\n",
       "      <td>1700.00</td>\n",
       "      <td>2019-12-30 00:01:00</td>\n",
       "      <td>136 Church St, New York City, NY 10001</td>\n",
       "      <td>1700.00</td>\n",
       "    </tr>\n",
       "    <tr>\n",
       "      <th>1</th>\n",
       "      <td>295666</td>\n",
       "      <td>LG Washing Machine</td>\n",
       "      <td>1</td>\n",
       "      <td>600.00</td>\n",
       "      <td>2019-12-29 07:03:00</td>\n",
       "      <td>562 2nd St, New York City, NY 10001</td>\n",
       "      <td>600.00</td>\n",
       "    </tr>\n",
       "    <tr>\n",
       "      <th>2</th>\n",
       "      <td>295667</td>\n",
       "      <td>USB-C Charging Cable</td>\n",
       "      <td>1</td>\n",
       "      <td>11.95</td>\n",
       "      <td>2019-12-12 18:21:00</td>\n",
       "      <td>277 Main St, New York City, NY 10001</td>\n",
       "      <td>11.95</td>\n",
       "    </tr>\n",
       "    <tr>\n",
       "      <th>3</th>\n",
       "      <td>295668</td>\n",
       "      <td>27in FHD Monitor</td>\n",
       "      <td>1</td>\n",
       "      <td>149.99</td>\n",
       "      <td>2019-12-22 15:13:00</td>\n",
       "      <td>410 6th St, San Francisco, CA 94016</td>\n",
       "      <td>149.99</td>\n",
       "    </tr>\n",
       "    <tr>\n",
       "      <th>4</th>\n",
       "      <td>295669</td>\n",
       "      <td>USB-C Charging Cable</td>\n",
       "      <td>1</td>\n",
       "      <td>11.95</td>\n",
       "      <td>2019-12-18 12:38:00</td>\n",
       "      <td>43 Hill St, Atlanta, GA 30301</td>\n",
       "      <td>11.95</td>\n",
       "    </tr>\n",
       "  </tbody>\n",
       "</table>\n",
       "</div>"
      ],
      "text/plain": [
       "   Order ID               Product  Quantity Ordered  Price Each  \\\n",
       "0    295665    Macbook Pro Laptop                 1     1700.00   \n",
       "1    295666    LG Washing Machine                 1      600.00   \n",
       "2    295667  USB-C Charging Cable                 1       11.95   \n",
       "3    295668      27in FHD Monitor                 1      149.99   \n",
       "4    295669  USB-C Charging Cable                 1       11.95   \n",
       "\n",
       "           Order Date                        Purchase Address    Total  \n",
       "0 2019-12-30 00:01:00  136 Church St, New York City, NY 10001  1700.00  \n",
       "1 2019-12-29 07:03:00     562 2nd St, New York City, NY 10001   600.00  \n",
       "2 2019-12-12 18:21:00    277 Main St, New York City, NY 10001    11.95  \n",
       "3 2019-12-22 15:13:00     410 6th St, San Francisco, CA 94016   149.99  \n",
       "4 2019-12-18 12:38:00           43 Hill St, Atlanta, GA 30301    11.95  "
      ]
     },
     "execution_count": 10,
     "metadata": {},
     "output_type": "execute_result"
    }
   ],
   "source": [
    "df['Total'] = df['Quantity Ordered'] * df['Price Each']\n",
    "df.head()"
   ]
  },
  {
   "cell_type": "markdown",
   "id": "f6745f6b",
   "metadata": {},
   "source": [
    "Which month had the largest amount of total sales in USD?"
   ]
  },
  {
   "cell_type": "code",
   "execution_count": 11,
   "id": "d9cae29b",
   "metadata": {},
   "outputs": [
    {
     "data": {
      "text/html": [
       "<div>\n",
       "<style scoped>\n",
       "    .dataframe tbody tr th:only-of-type {\n",
       "        vertical-align: middle;\n",
       "    }\n",
       "\n",
       "    .dataframe tbody tr th {\n",
       "        vertical-align: top;\n",
       "    }\n",
       "\n",
       "    .dataframe thead th {\n",
       "        text-align: right;\n",
       "    }\n",
       "</style>\n",
       "<table border=\"1\" class=\"dataframe\">\n",
       "  <thead>\n",
       "    <tr style=\"text-align: right;\">\n",
       "      <th></th>\n",
       "      <th>Order ID</th>\n",
       "      <th>Quantity Ordered</th>\n",
       "      <th>Price Each</th>\n",
       "      <th>Total</th>\n",
       "    </tr>\n",
       "    <tr>\n",
       "      <th>Month</th>\n",
       "      <th></th>\n",
       "      <th></th>\n",
       "      <th></th>\n",
       "      <th></th>\n",
       "    </tr>\n",
       "  </thead>\n",
       "  <tbody>\n",
       "    <tr>\n",
       "      <th>1</th>\n",
       "      <td>1421630798</td>\n",
       "      <td>10903</td>\n",
       "      <td>1811768.38</td>\n",
       "      <td>1822256.73</td>\n",
       "    </tr>\n",
       "    <tr>\n",
       "      <th>2</th>\n",
       "      <td>1871052592</td>\n",
       "      <td>13449</td>\n",
       "      <td>2188884.72</td>\n",
       "      <td>2202022.42</td>\n",
       "    </tr>\n",
       "    <tr>\n",
       "      <th>3</th>\n",
       "      <td>2564810956</td>\n",
       "      <td>17005</td>\n",
       "      <td>2791207.83</td>\n",
       "      <td>2807100.38</td>\n",
       "    </tr>\n",
       "    <tr>\n",
       "      <th>4</th>\n",
       "      <td>3387347100</td>\n",
       "      <td>20558</td>\n",
       "      <td>3367671.02</td>\n",
       "      <td>3390670.24</td>\n",
       "    </tr>\n",
       "    <tr>\n",
       "      <th>5</th>\n",
       "      <td>3345871523</td>\n",
       "      <td>18667</td>\n",
       "      <td>3135125.13</td>\n",
       "      <td>3152606.75</td>\n",
       "    </tr>\n",
       "    <tr>\n",
       "      <th>6</th>\n",
       "      <td>2932976072</td>\n",
       "      <td>15253</td>\n",
       "      <td>2562025.61</td>\n",
       "      <td>2577802.26</td>\n",
       "    </tr>\n",
       "    <tr>\n",
       "      <th>7</th>\n",
       "      <td>3284139576</td>\n",
       "      <td>16072</td>\n",
       "      <td>2632539.56</td>\n",
       "      <td>2647775.76</td>\n",
       "    </tr>\n",
       "    <tr>\n",
       "      <th>8</th>\n",
       "      <td>2899373917</td>\n",
       "      <td>13448</td>\n",
       "      <td>2230345.42</td>\n",
       "      <td>2244467.88</td>\n",
       "    </tr>\n",
       "    <tr>\n",
       "      <th>9</th>\n",
       "      <td>2948726831</td>\n",
       "      <td>13109</td>\n",
       "      <td>2084992.09</td>\n",
       "      <td>2097560.13</td>\n",
       "    </tr>\n",
       "    <tr>\n",
       "      <th>10</th>\n",
       "      <td>5457110383</td>\n",
       "      <td>22703</td>\n",
       "      <td>3715554.83</td>\n",
       "      <td>3736726.88</td>\n",
       "    </tr>\n",
       "    <tr>\n",
       "      <th>11</th>\n",
       "      <td>5047202573</td>\n",
       "      <td>19798</td>\n",
       "      <td>3180600.68</td>\n",
       "      <td>3199603.20</td>\n",
       "    </tr>\n",
       "    <tr>\n",
       "      <th>12</th>\n",
       "      <td>7685904705</td>\n",
       "      <td>28114</td>\n",
       "      <td>4588415.41</td>\n",
       "      <td>4613443.34</td>\n",
       "    </tr>\n",
       "  </tbody>\n",
       "</table>\n",
       "</div>"
      ],
      "text/plain": [
       "         Order ID  Quantity Ordered  Price Each       Total\n",
       "Month                                                      \n",
       "1      1421630798             10903  1811768.38  1822256.73\n",
       "2      1871052592             13449  2188884.72  2202022.42\n",
       "3      2564810956             17005  2791207.83  2807100.38\n",
       "4      3387347100             20558  3367671.02  3390670.24\n",
       "5      3345871523             18667  3135125.13  3152606.75\n",
       "6      2932976072             15253  2562025.61  2577802.26\n",
       "7      3284139576             16072  2632539.56  2647775.76\n",
       "8      2899373917             13448  2230345.42  2244467.88\n",
       "9      2948726831             13109  2084992.09  2097560.13\n",
       "10     5457110383             22703  3715554.83  3736726.88\n",
       "11     5047202573             19798  3180600.68  3199603.20\n",
       "12     7685904705             28114  4588415.41  4613443.34"
      ]
     },
     "execution_count": 11,
     "metadata": {},
     "output_type": "execute_result"
    }
   ],
   "source": [
    "#add Month column\n",
    "\n",
    "df['Month'] = pd.to_datetime(df['Order Date']).dt.month\n",
    "df.groupby(['Month']).sum()"
   ]
  },
  {
   "cell_type": "code",
   "execution_count": 14,
   "id": "e5f21bba",
   "metadata": {},
   "outputs": [
    {
     "data": {
      "image/png": "[encoded data removed]",
      "text/plain": [
       "<Figure size 432x288 with 1 Axes>"
      ]
     },
     "metadata": {
      "needs_background": "light"
     },
     "output_type": "display_data"
    }
   ],
   "source": [
    "#plot the results\n",
    "keys = [month for month, df in df.groupby(['Month'])]\n",
    "\n",
    "plt.bar(keys, df.groupby(['Month']).count()['Total'])\n",
    "plt.xticks(keys)\n",
    "plt.ylabel('Sales in USD ($)')\n",
    "plt.xlabel('Month number')\n",
    "plt.show()"
   ]
  },
  {
   "cell_type": "markdown",
   "id": "1beeab9f",
   "metadata": {},
   "source": [
    "What city sold the most products?"
   ]
  },
  {
   "cell_type": "code",
   "execution_count": 15,
   "id": "20d7665a",
   "metadata": {},
   "outputs": [
    {
     "data": {
      "text/html": [
       "<div>\n",
       "<style scoped>\n",
       "    .dataframe tbody tr th:only-of-type {\n",
       "        vertical-align: middle;\n",
       "    }\n",
       "\n",
       "    .dataframe tbody tr th {\n",
       "        vertical-align: top;\n",
       "    }\n",
       "\n",
       "    .dataframe thead th {\n",
       "        text-align: right;\n",
       "    }\n",
       "</style>\n",
       "<table border=\"1\" class=\"dataframe\">\n",
       "  <thead>\n",
       "    <tr style=\"text-align: right;\">\n",
       "      <th></th>\n",
       "      <th>Order ID</th>\n",
       "      <th>Product</th>\n",
       "      <th>Quantity Ordered</th>\n",
       "      <th>Price Each</th>\n",
       "      <th>Order Date</th>\n",
       "      <th>Purchase Address</th>\n",
       "      <th>Total</th>\n",
       "      <th>Month</th>\n",
       "      <th>City</th>\n",
       "    </tr>\n",
       "  </thead>\n",
       "  <tbody>\n",
       "    <tr>\n",
       "      <th>0</th>\n",
       "      <td>295665</td>\n",
       "      <td>Macbook Pro Laptop</td>\n",
       "      <td>1</td>\n",
       "      <td>1700.00</td>\n",
       "      <td>2019-12-30 00:01:00</td>\n",
       "      <td>136 Church St, New York City, NY 10001</td>\n",
       "      <td>1700.00</td>\n",
       "      <td>12</td>\n",
       "      <td>New York City  (NY)</td>\n",
       "    </tr>\n",
       "    <tr>\n",
       "      <th>1</th>\n",
       "      <td>295666</td>\n",
       "      <td>LG Washing Machine</td>\n",
       "      <td>1</td>\n",
       "      <td>600.00</td>\n",
       "      <td>2019-12-29 07:03:00</td>\n",
       "      <td>562 2nd St, New York City, NY 10001</td>\n",
       "      <td>600.00</td>\n",
       "      <td>12</td>\n",
       "      <td>New York City  (NY)</td>\n",
       "    </tr>\n",
       "    <tr>\n",
       "      <th>2</th>\n",
       "      <td>295667</td>\n",
       "      <td>USB-C Charging Cable</td>\n",
       "      <td>1</td>\n",
       "      <td>11.95</td>\n",
       "      <td>2019-12-12 18:21:00</td>\n",
       "      <td>277 Main St, New York City, NY 10001</td>\n",
       "      <td>11.95</td>\n",
       "      <td>12</td>\n",
       "      <td>New York City  (NY)</td>\n",
       "    </tr>\n",
       "    <tr>\n",
       "      <th>3</th>\n",
       "      <td>295668</td>\n",
       "      <td>27in FHD Monitor</td>\n",
       "      <td>1</td>\n",
       "      <td>149.99</td>\n",
       "      <td>2019-12-22 15:13:00</td>\n",
       "      <td>410 6th St, San Francisco, CA 94016</td>\n",
       "      <td>149.99</td>\n",
       "      <td>12</td>\n",
       "      <td>San Francisco  (CA)</td>\n",
       "    </tr>\n",
       "    <tr>\n",
       "      <th>4</th>\n",
       "      <td>295669</td>\n",
       "      <td>USB-C Charging Cable</td>\n",
       "      <td>1</td>\n",
       "      <td>11.95</td>\n",
       "      <td>2019-12-18 12:38:00</td>\n",
       "      <td>43 Hill St, Atlanta, GA 30301</td>\n",
       "      <td>11.95</td>\n",
       "      <td>12</td>\n",
       "      <td>Atlanta  (GA)</td>\n",
       "    </tr>\n",
       "  </tbody>\n",
       "</table>\n",
       "</div>"
      ],
      "text/plain": [
       "   Order ID               Product  Quantity Ordered  Price Each  \\\n",
       "0    295665    Macbook Pro Laptop                 1     1700.00   \n",
       "1    295666    LG Washing Machine                 1      600.00   \n",
       "2    295667  USB-C Charging Cable                 1       11.95   \n",
       "3    295668      27in FHD Monitor                 1      149.99   \n",
       "4    295669  USB-C Charging Cable                 1       11.95   \n",
       "\n",
       "           Order Date                        Purchase Address    Total  Month  \\\n",
       "0 2019-12-30 00:01:00  136 Church St, New York City, NY 10001  1700.00     12   \n",
       "1 2019-12-29 07:03:00     562 2nd St, New York City, NY 10001   600.00     12   \n",
       "2 2019-12-12 18:21:00    277 Main St, New York City, NY 10001    11.95     12   \n",
       "3 2019-12-22 15:13:00     410 6th St, San Francisco, CA 94016   149.99     12   \n",
       "4 2019-12-18 12:38:00           43 Hill St, Atlanta, GA 30301    11.95     12   \n",
       "\n",
       "                  City  \n",
       "0  New York City  (NY)  \n",
       "1  New York City  (NY)  \n",
       "2  New York City  (NY)  \n",
       "3  San Francisco  (CA)  \n",
       "4        Atlanta  (GA)  "
      ]
     },
     "execution_count": 15,
     "metadata": {},
     "output_type": "execute_result"
    }
   ],
   "source": [
    "#add city + state column\n",
    "\n",
    "def get_city(address):\n",
    "    return address.split(\",\")[1].strip(\" \")\n",
    "\n",
    "def get_state(address):\n",
    "    return address.split(\",\")[2].split(\" \")[1]\n",
    "\n",
    "df['City'] = df['Purchase Address'].apply(lambda x: f\"{get_city(x)}  ({get_state(x)})\")\n",
    "df.head()"
   ]
  },
  {
   "cell_type": "code",
   "execution_count": 16,
   "id": "c43a75df",
   "metadata": {},
   "outputs": [
    {
     "data": {
      "image/png": "[encoded data removed]",
      "text/plain": [
       "<Figure size 432x288 with 1 Axes>"
      ]
     },
     "metadata": {
      "needs_background": "light"
     },
     "output_type": "display_data"
    }
   ],
   "source": [
    "keys = [city for city, df in df.groupby(['City'])]\n",
    "\n",
    "plt.bar(keys,df.groupby(['City']).sum()['Total'])\n",
    "plt.ylabel('Sales in USD ($)')\n",
    "plt.xlabel('Month number')\n",
    "plt.xticks(keys, rotation='vertical', size=8)\n",
    "plt.show()"
   ]
  },
  {
   "cell_type": "markdown",
   "id": "1d615fb6",
   "metadata": {},
   "source": [
    "What time should we display advertisements to maximize likelihood of customer's buying product?"
   ]
  },
  {
   "cell_type": "code",
   "execution_count": 17,
   "id": "e55d52a8",
   "metadata": {},
   "outputs": [],
   "source": [
    "df['Hour'] = pd.to_datetime(df['Order Date']).dt.hour"
   ]
  },
  {
   "cell_type": "code",
   "execution_count": 19,
   "id": "edbc7476",
   "metadata": {},
   "outputs": [
    {
     "data": {
      "image/png": "[encoded data removed]",
      "text/plain": [
       "<Figure size 432x288 with 1 Axes>"
      ]
     },
     "metadata": {
      "needs_background": "light"
     },
     "output_type": "display_data"
    }
   ],
   "source": [
    "keys = [hour for hour, df in df.groupby(['Hour'])]\n",
    "\n",
    "plt.plot(keys,df.groupby(['Hour']).count()['Order ID'])\n",
    "plt.xlabel('Hour of purchase')\n",
    "plt.ylabel('Number of orders')\n",
    "plt.xticks(keys)\n",
    "plt.grid()\n",
    "plt.show()"
   ]
  },
  {
   "cell_type": "markdown",
   "id": "392b0d58",
   "metadata": {},
   "source": [
    "What products are most often sold together?"
   ]
  },
  {
   "cell_type": "code",
   "execution_count": 44,
   "id": "f5bb0f07",
   "metadata": {},
   "outputs": [
    {
     "name": "stderr",
     "output_type": "stream",
     "text": [
      "/tmp/ipykernel_31328/544115801.py:2: SettingWithCopyWarning: \n",
      "A value is trying to be set on a copy of a slice from a DataFrame.\n",
      "Try using .loc[row_indexer,col_indexer] = value instead\n",
      "\n",
      "See the caveats in the documentation: https://pandas.pydata.org/pandas-docs/stable/user_guide/indexing.html#returning-a-view-versus-a-copy\n",
      "  df_duplicated['Grouped'] = df_duplicated.groupby('Order ID')['Product'].transform(lambda x: ','.join(x))\n"
     ]
    },
    {
     "data": {
      "text/html": [
       "<div>\n",
       "<style scoped>\n",
       "    .dataframe tbody tr th:only-of-type {\n",
       "        vertical-align: middle;\n",
       "    }\n",
       "\n",
       "    .dataframe tbody tr th {\n",
       "        vertical-align: top;\n",
       "    }\n",
       "\n",
       "    .dataframe thead th {\n",
       "        text-align: right;\n",
       "    }\n",
       "</style>\n",
       "<table border=\"1\" class=\"dataframe\">\n",
       "  <thead>\n",
       "    <tr style=\"text-align: right;\">\n",
       "      <th></th>\n",
       "      <th>Order ID</th>\n",
       "      <th>Grouped</th>\n",
       "    </tr>\n",
       "  </thead>\n",
       "  <tbody>\n",
       "    <tr>\n",
       "      <th>16</th>\n",
       "      <td>295681</td>\n",
       "      <td>Google Phone,USB-C Charging Cable,Bose SoundSp...</td>\n",
       "    </tr>\n",
       "    <tr>\n",
       "      <th>36</th>\n",
       "      <td>295698</td>\n",
       "      <td>Vareebadd Phone,USB-C Charging Cable</td>\n",
       "    </tr>\n",
       "    <tr>\n",
       "      <th>42</th>\n",
       "      <td>295703</td>\n",
       "      <td>AA Batteries (4-pack),Bose SoundSport Headphones</td>\n",
       "    </tr>\n",
       "    <tr>\n",
       "      <th>66</th>\n",
       "      <td>295726</td>\n",
       "      <td>iPhone,Lightning Charging Cable</td>\n",
       "    </tr>\n",
       "    <tr>\n",
       "      <th>76</th>\n",
       "      <td>295735</td>\n",
       "      <td>iPhone,Apple Airpods Headphones,Wired Headphones</td>\n",
       "    </tr>\n",
       "    <tr>\n",
       "      <th>...</th>\n",
       "      <td>...</td>\n",
       "      <td>...</td>\n",
       "    </tr>\n",
       "    <tr>\n",
       "      <th>2287</th>\n",
       "      <td>297847</td>\n",
       "      <td>iPhone,Lightning Charging Cable</td>\n",
       "    </tr>\n",
       "    <tr>\n",
       "      <th>2335</th>\n",
       "      <td>297894</td>\n",
       "      <td>USB-C Charging Cable,AA Batteries (4-pack)</td>\n",
       "    </tr>\n",
       "    <tr>\n",
       "      <th>2337</th>\n",
       "      <td>297895</td>\n",
       "      <td>USB-C Charging Cable,27in FHD Monitor</td>\n",
       "    </tr>\n",
       "    <tr>\n",
       "      <th>2388</th>\n",
       "      <td>297945</td>\n",
       "      <td>Vareebadd Phone,USB-C Charging Cable,Bose Soun...</td>\n",
       "    </tr>\n",
       "    <tr>\n",
       "      <th>2396</th>\n",
       "      <td>297951</td>\n",
       "      <td>USB-C Charging Cable,Lightning Charging Cable</td>\n",
       "    </tr>\n",
       "  </tbody>\n",
       "</table>\n",
       "<p>100 rows × 2 columns</p>\n",
       "</div>"
      ],
      "text/plain": [
       "      Order ID                                            Grouped\n",
       "16      295681  Google Phone,USB-C Charging Cable,Bose SoundSp...\n",
       "36      295698               Vareebadd Phone,USB-C Charging Cable\n",
       "42      295703   AA Batteries (4-pack),Bose SoundSport Headphones\n",
       "66      295726                    iPhone,Lightning Charging Cable\n",
       "76      295735   iPhone,Apple Airpods Headphones,Wired Headphones\n",
       "...        ...                                                ...\n",
       "2287    297847                    iPhone,Lightning Charging Cable\n",
       "2335    297894         USB-C Charging Cable,AA Batteries (4-pack)\n",
       "2337    297895              USB-C Charging Cable,27in FHD Monitor\n",
       "2388    297945  Vareebadd Phone,USB-C Charging Cable,Bose Soun...\n",
       "2396    297951      USB-C Charging Cable,Lightning Charging Cable\n",
       "\n",
       "[100 rows x 2 columns]"
      ]
     },
     "execution_count": 44,
     "metadata": {},
     "output_type": "execute_result"
    }
   ],
   "source": [
    "df_duplicated = df[df['Order ID'].duplicated(keep=False)]\n",
    "df_duplicated['Grouped'] = df_duplicated.groupby('Order ID')['Product'].transform(lambda x: ','.join(x))\n",
    "\n",
    "df_duplicated2 = df_duplicated[['Order ID', 'Grouped']].drop_duplicates()\n",
    "\n",
    "df_duplicated2.head(100)"
   ]
  },
  {
   "cell_type": "code",
   "execution_count": 49,
   "id": "d8054695",
   "metadata": {},
   "outputs": [
    {
     "name": "stdout",
     "output_type": "stream",
     "text": [
      "('iPhone', 'Lightning Charging Cable') 1005\n",
      "('Google Phone', 'USB-C Charging Cable') 987\n",
      "('iPhone', 'Wired Headphones') 447\n",
      "('Google Phone', 'Wired Headphones') 414\n",
      "('Vareebadd Phone', 'USB-C Charging Cable') 361\n",
      "('iPhone', 'Apple Airpods Headphones') 360\n",
      "('Google Phone', 'Bose SoundSport Headphones') 220\n",
      "('USB-C Charging Cable', 'Wired Headphones') 160\n",
      "('Vareebadd Phone', 'Wired Headphones') 143\n",
      "('Lightning Charging Cable', 'Wired Headphones') 92\n"
     ]
    }
   ],
   "source": [
    "from itertools import combinations\n",
    "from collections import Counter\n",
    "\n",
    "count = Counter()\n",
    "\n",
    "for row in df_duplicated2['Grouped']:\n",
    "    row_list = row.split(',')\n",
    "    count.update(Counter(combinations(row_list, 2)))\n",
    "    \n",
    "for key, value in count.most_common(10):\n",
    "    print(key, value)"
   ]
  },
  {
   "cell_type": "markdown",
   "id": "63df69c4",
   "metadata": {},
   "source": [
    "What product sold the most?"
   ]
  },
  {
   "cell_type": "code",
   "execution_count": 50,
   "id": "55d2b79f",
   "metadata": {},
   "outputs": [
    {
     "data": {
      "text/html": [
       "<div>\n",
       "<style scoped>\n",
       "    .dataframe tbody tr th:only-of-type {\n",
       "        vertical-align: middle;\n",
       "    }\n",
       "\n",
       "    .dataframe tbody tr th {\n",
       "        vertical-align: top;\n",
       "    }\n",
       "\n",
       "    .dataframe thead th {\n",
       "        text-align: right;\n",
       "    }\n",
       "</style>\n",
       "<table border=\"1\" class=\"dataframe\">\n",
       "  <thead>\n",
       "    <tr style=\"text-align: right;\">\n",
       "      <th></th>\n",
       "      <th>Order ID</th>\n",
       "      <th>Product</th>\n",
       "      <th>Quantity Ordered</th>\n",
       "      <th>Price Each</th>\n",
       "      <th>Order Date</th>\n",
       "      <th>Purchase Address</th>\n",
       "      <th>Total</th>\n",
       "      <th>Month</th>\n",
       "      <th>City</th>\n",
       "      <th>Hour</th>\n",
       "    </tr>\n",
       "  </thead>\n",
       "  <tbody>\n",
       "    <tr>\n",
       "      <th>0</th>\n",
       "      <td>295665</td>\n",
       "      <td>Macbook Pro Laptop</td>\n",
       "      <td>1</td>\n",
       "      <td>1700.00</td>\n",
       "      <td>2019-12-30 00:01:00</td>\n",
       "      <td>136 Church St, New York City, NY 10001</td>\n",
       "      <td>1700.00</td>\n",
       "      <td>12</td>\n",
       "      <td>New York City  (NY)</td>\n",
       "      <td>0</td>\n",
       "    </tr>\n",
       "    <tr>\n",
       "      <th>1</th>\n",
       "      <td>295666</td>\n",
       "      <td>LG Washing Machine</td>\n",
       "      <td>1</td>\n",
       "      <td>600.00</td>\n",
       "      <td>2019-12-29 07:03:00</td>\n",
       "      <td>562 2nd St, New York City, NY 10001</td>\n",
       "      <td>600.00</td>\n",
       "      <td>12</td>\n",
       "      <td>New York City  (NY)</td>\n",
       "      <td>7</td>\n",
       "    </tr>\n",
       "    <tr>\n",
       "      <th>2</th>\n",
       "      <td>295667</td>\n",
       "      <td>USB-C Charging Cable</td>\n",
       "      <td>1</td>\n",
       "      <td>11.95</td>\n",
       "      <td>2019-12-12 18:21:00</td>\n",
       "      <td>277 Main St, New York City, NY 10001</td>\n",
       "      <td>11.95</td>\n",
       "      <td>12</td>\n",
       "      <td>New York City  (NY)</td>\n",
       "      <td>18</td>\n",
       "    </tr>\n",
       "    <tr>\n",
       "      <th>3</th>\n",
       "      <td>295668</td>\n",
       "      <td>27in FHD Monitor</td>\n",
       "      <td>1</td>\n",
       "      <td>149.99</td>\n",
       "      <td>2019-12-22 15:13:00</td>\n",
       "      <td>410 6th St, San Francisco, CA 94016</td>\n",
       "      <td>149.99</td>\n",
       "      <td>12</td>\n",
       "      <td>San Francisco  (CA)</td>\n",
       "      <td>15</td>\n",
       "    </tr>\n",
       "    <tr>\n",
       "      <th>4</th>\n",
       "      <td>295669</td>\n",
       "      <td>USB-C Charging Cable</td>\n",
       "      <td>1</td>\n",
       "      <td>11.95</td>\n",
       "      <td>2019-12-18 12:38:00</td>\n",
       "      <td>43 Hill St, Atlanta, GA 30301</td>\n",
       "      <td>11.95</td>\n",
       "      <td>12</td>\n",
       "      <td>Atlanta  (GA)</td>\n",
       "      <td>12</td>\n",
       "    </tr>\n",
       "  </tbody>\n",
       "</table>\n",
       "</div>"
      ],
      "text/plain": [
       "   Order ID               Product  Quantity Ordered  Price Each  \\\n",
       "0    295665    Macbook Pro Laptop                 1     1700.00   \n",
       "1    295666    LG Washing Machine                 1      600.00   \n",
       "2    295667  USB-C Charging Cable                 1       11.95   \n",
       "3    295668      27in FHD Monitor                 1      149.99   \n",
       "4    295669  USB-C Charging Cable                 1       11.95   \n",
       "\n",
       "           Order Date                        Purchase Address    Total  Month  \\\n",
       "0 2019-12-30 00:01:00  136 Church St, New York City, NY 10001  1700.00     12   \n",
       "1 2019-12-29 07:03:00     562 2nd St, New York City, NY 10001   600.00     12   \n",
       "2 2019-12-12 18:21:00    277 Main St, New York City, NY 10001    11.95     12   \n",
       "3 2019-12-22 15:13:00     410 6th St, San Francisco, CA 94016   149.99     12   \n",
       "4 2019-12-18 12:38:00           43 Hill St, Atlanta, GA 30301    11.95     12   \n",
       "\n",
       "                  City  Hour  \n",
       "0  New York City  (NY)     0  \n",
       "1  New York City  (NY)     7  \n",
       "2  New York City  (NY)    18  \n",
       "3  San Francisco  (CA)    15  \n",
       "4        Atlanta  (GA)    12  "
      ]
     },
     "execution_count": 50,
     "metadata": {},
     "output_type": "execute_result"
    }
   ],
   "source": [
    "df.head()"
   ]
  },
  {
   "cell_type": "code",
   "execution_count": 53,
   "id": "45114987",
   "metadata": {},
   "outputs": [
    {
     "data": {
      "image/png": "[encoded data removed]",
      "text/plain": [
       "<Figure size 432x288 with 1 Axes>"
      ]
     },
     "metadata": {
      "needs_background": "light"
     },
     "output_type": "display_data"
    }
   ],
   "source": [
    "product_group = df.groupby('Product')\n",
    "quantity_ordered = product_group.sum()['Quantity Ordered']\n",
    "\n",
    "keys = [product for product, df in product_group]\n",
    "\n",
    "plt.bar(keys, quantity_ordered)\n",
    "plt.ylabel('Number of units sold')\n",
    "plt.xlabel('Product name')\n",
    "plt.xticks(keys, rotation='vertical', size=8)\n",
    "plt.show()"
   ]
  },
  {
   "cell_type": "code",
   "execution_count": 54,
   "id": "e5e21921",
   "metadata": {},
   "outputs": [
    {
     "name": "stdout",
     "output_type": "stream",
     "text": [
      "Product\n",
      "20in Monitor                   109.99\n",
      "27in 4K Gaming Monitor         389.99\n",
      "27in FHD Monitor               149.99\n",
      "34in Ultrawide Monitor         379.99\n",
      "AA Batteries (4-pack)            3.84\n",
      "AAA Batteries (4-pack)           2.99\n",
      "Apple Airpods Headphones       150.00\n",
      "Bose SoundSport Headphones      99.99\n",
      "Flatscreen TV                  300.00\n",
      "Google Phone                   600.00\n",
      "LG Dryer                       600.00\n",
      "LG Washing Machine             600.00\n",
      "Lightning Charging Cable        14.95\n",
      "Macbook Pro Laptop            1700.00\n",
      "ThinkPad Laptop                999.99\n",
      "USB-C Charging Cable            11.95\n",
      "Vareebadd Phone                400.00\n",
      "Wired Headphones                11.99\n",
      "iPhone                         700.00\n",
      "Name: Price Each, dtype: float64\n"
     ]
    }
   ],
   "source": [
    "prices = df.groupby('Product').mean()['Price Each']\n",
    "print(prices)"
   ]
  },
  {
   "cell_type": "code",
   "execution_count": 63,
   "id": "27c5a105",
   "metadata": {},
   "outputs": [
    {
     "name": "stderr",
     "output_type": "stream",
     "text": [
      "/tmp/ipykernel_31328/2212735591.py:10: UserWarning: FixedFormatter should only be used together with FixedLocator\n",
      "  ax1.set_xticklabels(keys, rotation='vertical', size=8)\n",
      "/tmp/ipykernel_31328/2212735591.py:11: UserWarning: Matplotlib is currently using module://matplotlib_inline.backend_inline, which is a non-GUI backend, so cannot show the figure.\n",
      "  fig.show()\n"
     ]
    },
    {
     "data": {
      "image/png": "[encoded data removed]",
      "text/plain": [
       "<Figure size 432x288 with 2 Axes>"
      ]
     },
     "metadata": {
      "needs_background": "light"
     },
     "output_type": "display_data"
    }
   ],
   "source": [
    "fig, ax1 = plt.subplots()\n",
    "\n",
    "ax2 = ax1.twinx()\n",
    "ax1.bar(keys, quantity_ordered, color='g')\n",
    "ax2.plot(keys, prices, color='b')\n",
    "\n",
    "ax1.set_xlabel('Product name')\n",
    "ax1.set_ylabel('Quantity Ordered', color='g')\n",
    "ax2.set_ylabel('Price in USD', color='b')\n",
    "ax1.set_xticklabels(keys, rotation='vertical', size=8)\n",
    "fig.show()"
   ]
  },
  {
   "cell_type": "code",
   "execution_count": null,
   "id": "7a7683a8",
   "metadata": {},
   "outputs": [],
   "source": []
  }
 ],
 "metadata": {
  "kernelspec": {
   "display_name": "Python 3 (ipykernel)",
   "language": "python",
   "name": "python3"
  },
  "language_info": {
   "codemirror_mode": {
    "name": "ipython",
    "version": 3
   },
   "file_extension": ".py",
   "mimetype": "text/x-python",
   "name": "python",
   "nbconvert_exporter": "python",
   "pygments_lexer": "ipython3",
   "version": "3.9.7"
  }
 },
 "nbformat": 4,
 "nbformat_minor": 5
}
